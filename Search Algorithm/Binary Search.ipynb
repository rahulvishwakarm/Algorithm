{
 "metadata": {
  "language_info": {
   "codemirror_mode": {
    "name": "ipython",
    "version": 3
   },
   "file_extension": ".py",
   "mimetype": "text/x-python",
   "name": "python",
   "nbconvert_exporter": "python",
   "pygments_lexer": "ipython3",
   "version": "3.8.3-final"
  },
  "orig_nbformat": 2,
  "kernelspec": {
   "name": "python3",
   "display_name": "Python 3",
   "language": "python"
  }
 },
 "nbformat": 4,
 "nbformat_minor": 2,
 "cells": [
  {
   "cell_type": "code",
   "execution_count": 1,
   "metadata": {},
   "outputs": [],
   "source": [
    "# Binary search - Searching the sorted array by repeatedly dividing the search interval into half.By covering the whole array if the value of the middle number is lees than the search number we move to lower half else we move to the upper half.\n",
    "\n",
    "# We continue the furtherprocess unless we get the serch number\n",
    "# array should be sorted\n",
    "# if search number is larger than the last number then the serch number is not present"
   ]
  },
  {
   "cell_type": "code",
   "execution_count": 10,
   "metadata": {},
   "outputs": [
    {
     "output_type": "execute_result",
     "data": {
      "text/plain": [
       "('Element found at:', 5)"
      ]
     },
     "metadata": {},
     "execution_count": 10
    }
   ],
   "source": [
    "def binarySearch(arr,search_no):\n",
    "    lb=0\n",
    "    ub=len(arr)-1\n",
    "    while(lb<=ub):\n",
    "        if(search_no>arr[ub]):\n",
    "            return \"Not found since larger\"\n",
    "        elif(search_no<arr[lb]):\n",
    "            return \"Not found since smaller\"\n",
    "        else:\n",
    "            mid=(lb+ub)//2\n",
    "            if(arr[mid]==search_no):\n",
    "                return \"Element found at:\",mid\n",
    "            else:\n",
    "                if(arr[mid]<search_no):\n",
    "                    lb=mid+1\n",
    "                else:\n",
    "                    ub=mid-1\n",
    "arr=[23,32,42,53,64,75,84,96]\n",
    "search_no=int(input(\"Enter the number:\"))\n",
    "binarySearch(arr,search_no)"
   ]
  },
  {
   "cell_type": "code",
   "execution_count": null,
   "metadata": {},
   "outputs": [],
   "source": []
  }
 ]
}