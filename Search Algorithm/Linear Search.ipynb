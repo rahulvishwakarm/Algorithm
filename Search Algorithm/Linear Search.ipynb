{
 "metadata": {
  "language_info": {
   "codemirror_mode": {
    "name": "ipython",
    "version": 3
   },
   "file_extension": ".py",
   "mimetype": "text/x-python",
   "name": "python",
   "nbconvert_exporter": "python",
   "pygments_lexer": "ipython3",
   "version": "3.8.3-final"
  },
  "orig_nbformat": 2,
  "kernelspec": {
   "name": "python3",
   "display_name": "Python 3",
   "language": "python"
  }
 },
 "nbformat": 4,
 "nbformat_minor": 2,
 "cells": [
  {
   "source": [
    "#In Linear serach we traverse then array from left to right and return the index if the element present in the array else return -1"
   ],
   "cell_type": "code",
   "metadata": {},
   "execution_count": 1,
   "outputs": []
  },
  {
   "cell_type": "code",
   "execution_count": 10,
   "metadata": {},
   "outputs": [
    {
     "output_type": "execute_result",
     "data": {
      "text/plain": [
       "(25, ' is present in the index ', 5)"
      ]
     },
     "metadata": {},
     "execution_count": 10
    }
   ],
   "source": [
    "def linear_search(arr,search_no):\n",
    "    for i in range(len(arr)):\n",
    "        if(arr[i]==search_no):\n",
    "            return search_no,\" is present in the index \",i\n",
    "    return search_no,\" is not present in the array \"\n",
    "\n",
    "arr=[51,26,10,35,64,25,95,25,00,30]\n",
    "search_no = int(input(\"Which number do you want to search?? : \"))\n",
    "linear_search(arr,search_no)"
   ]
  },
  {
   "cell_type": "code",
   "execution_count": null,
   "metadata": {},
   "outputs": [],
   "source": []
  }
 ]
}