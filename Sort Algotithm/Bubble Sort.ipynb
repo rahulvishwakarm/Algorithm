{
 "metadata": {
  "language_info": {
   "codemirror_mode": {
    "name": "ipython",
    "version": 3
   },
   "file_extension": ".py",
   "mimetype": "text/x-python",
   "name": "python",
   "nbconvert_exporter": "python",
   "pygments_lexer": "ipython3",
   "version": "3.8.3-final"
  },
  "orig_nbformat": 2,
  "kernelspec": {
   "name": "python3",
   "display_name": "Python 3",
   "language": "python"
  }
 },
 "nbformat": 4,
 "nbformat_minor": 2,
 "cells": [
  {
   "cell_type": "code",
   "execution_count": 2,
   "metadata": {},
   "outputs": [],
   "source": [
    "#Bubble Sort - It is the simpliest way of sorting the array, in which repeatidly comapronf and swaping of number happens if first number is greater than second number"
   ]
  },
  {
   "cell_type": "code",
   "execution_count": 8,
   "metadata": {},
   "outputs": [
    {
     "output_type": "stream",
     "name": "stdout",
     "text": [
      "Original array:  [1, 3, 5, 9, 23, 24, 26, 51, 65]\n[23, 26, 1, 24, 3, 51, 9, 5, 65]\n[23, 1, 24, 3, 26, 9, 5, 51, 65]\n[1, 23, 3, 24, 9, 5, 26, 51, 65]\n[1, 3, 23, 9, 5, 24, 26, 51, 65]\n[1, 3, 9, 5, 23, 24, 26, 51, 65]\n[1, 3, 5, 9, 23, 24, 26, 51, 65]\n[1, 3, 5, 9, 23, 24, 26, 51, 65]\n[1, 3, 5, 9, 23, 24, 26, 51, 65]\n[1, 3, 5, 9, 23, 24, 26, 51, 65]\nSorted array:  [1, 3, 5, 9, 23, 24, 26, 51, 65]\n"
     ]
    }
   ],
   "source": [
    "def bubbleSort(arr):\n",
    "    for i in range(len(arr)):\n",
    "        for j in range(0,len(arr)-i-1):\n",
    "            if(arr[j]>arr[j+1]):\n",
    "                temp=arr[j]\n",
    "                arr[j]=arr[j+1]\n",
    "                arr[j+1]=temp\n",
    "        print(arr)\n",
    "print(\"Original array: \",arr)\n",
    "arr=[23,51,26,1,24,3,65,9,5]\n",
    "bubbleSort(arr)\n",
    "print(\"Sorted array: \",arr)\n"
   ]
  },
  {
   "cell_type": "code",
   "execution_count": null,
   "metadata": {},
   "outputs": [],
   "source": []
  }
 ]
}