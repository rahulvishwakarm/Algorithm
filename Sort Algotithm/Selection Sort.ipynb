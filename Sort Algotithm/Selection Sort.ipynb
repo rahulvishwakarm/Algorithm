{
 "metadata": {
  "language_info": {
   "codemirror_mode": {
    "name": "ipython",
    "version": 3
   },
   "file_extension": ".py",
   "mimetype": "text/x-python",
   "name": "python",
   "nbconvert_exporter": "python",
   "pygments_lexer": "ipython3",
   "version": "3.8.3-final"
  },
  "orig_nbformat": 2,
  "kernelspec": {
   "name": "python3",
   "display_name": "Python 3",
   "language": "python"
  }
 },
 "nbformat": 4,
 "nbformat_minor": 2,
 "cells": [
  {
   "cell_type": "code",
   "execution_count": 1,
   "metadata": {},
   "outputs": [],
   "source": [
    "#Selection Sort - It is the sorting technique in which we traverse along the array and find the minuimum value , then put that min value to the start(lowest index), we repaet the process untill the array get sorted."
   ]
  },
  {
   "cell_type": "code",
   "execution_count": 2,
   "metadata": {},
   "outputs": [],
   "source": [
    "# Steps:\n",
    "# 1. Select the array\n",
    "# 2. Consider the value at the lowest index as minimum value\n",
    "# 3. value after the minumum value is considered the unsorted part where as the before and till minumum is the sorted part\n",
    "# 4. if arr(started from minimum of unsorted part)<arr[mimumum value] then the minimum of unsorted shift to the sorted part\n",
    "# 5. the continue this step till the end of the array\n",
    "# 6. then swap the value"
   ]
  },
  {
   "cell_type": "code",
   "execution_count": 10,
   "metadata": {},
   "outputs": [
    {
     "output_type": "stream",
     "name": "stdout",
     "text": [
      "[16, 22, 42, 32, 84, 76, 64]\n[16, 22, 42, 32, 84, 76, 64]\n[16, 22, 32, 42, 84, 76, 64]\n[16, 22, 32, 42, 84, 76, 64]\n[16, 22, 32, 42, 64, 76, 84]\n[16, 22, 32, 42, 64, 76, 84]\n"
     ]
    }
   ],
   "source": [
    "#Selection Sort\n",
    "def selectionSort(arr):\n",
    "    for i in range(0,len(arr)-1):\n",
    "        min_value=i\n",
    "        for j in range(i,len(arr)):\n",
    "            if(arr[j]<arr[min_value]):\n",
    "                min_value=j \n",
    "        temp=arr[i]\n",
    "        arr[i]=arr[min_value]\n",
    "        arr[min_value]=temp\n",
    "        print(arr)\n",
    "arr=[42,22,16,32,84,76,64]\n",
    "selectionSort(arr)"
   ]
  },
  {
   "cell_type": "code",
   "execution_count": null,
   "metadata": {},
   "outputs": [],
   "source": []
  }
 ]
}