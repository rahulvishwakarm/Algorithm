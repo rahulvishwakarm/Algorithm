{
 "metadata": {
  "language_info": {
   "codemirror_mode": {
    "name": "ipython",
    "version": 3
   },
   "file_extension": ".py",
   "mimetype": "text/x-python",
   "name": "python",
   "nbconvert_exporter": "python",
   "pygments_lexer": "ipython3",
   "version": "3.8.3-final"
  },
  "orig_nbformat": 2,
  "kernelspec": {
   "name": "python3",
   "display_name": "Python 3",
   "language": "python"
  }
 },
 "nbformat": 4,
 "nbformat_minor": 2,
 "cells": [
  {
   "cell_type": "code",
   "execution_count": 1,
   "metadata": {},
   "outputs": [],
   "source": [
    "# Insertion Sort - Insertion sort is the sorting technique in which we select the element unsorted part of an array and insert in the sorted part of the array so that the elements are arranged in the sorted order at the end\n",
    "\n",
    "# We iterate from arr[0] to arr[n] so that the all element are arranged in the sorted order"
   ]
  },
  {
   "cell_type": "code",
   "execution_count": 4,
   "metadata": {},
   "outputs": [
    {
     "output_type": "stream",
     "name": "stdout",
     "text": [
      "Unsorted array: [23, 15, 24, 63, 51, 26, 32, 13]\nSorted array: [13, 15, 23, 24, 26, 32, 51, 63]\n"
     ]
    }
   ],
   "source": [
    "#Insertion Sort\n",
    "\n",
    "def insertionSort(arr):\n",
    "    for i in range(0,len(arr)-1):\n",
    "        min_val=i\n",
    "        for j in range(i,len(arr)):\n",
    "            if(arr[j]<arr[min_val]): #Checking the min value\n",
    "                min_val=j #if min value found replace it to min value\n",
    "        #swaping the min value found to the considered min value\n",
    "        temp=arr[i]\n",
    "        arr[i]=arr[min_val]\n",
    "        arr[min_val]=temp\n",
    "\n",
    "arr=[23,15,24,63,51,26,32,13]\n",
    "print(\"Unsorted array:\",arr)\n",
    "insertionSort(arr)\n",
    "print(\"Sorted array:\",arr)\n"
   ]
  },
  {
   "cell_type": "code",
   "execution_count": null,
   "metadata": {},
   "outputs": [],
   "source": []
  }
 ]
}