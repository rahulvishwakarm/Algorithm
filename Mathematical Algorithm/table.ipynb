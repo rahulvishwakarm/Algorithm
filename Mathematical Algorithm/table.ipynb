{
 "metadata": {
  "language_info": {
   "codemirror_mode": {
    "name": "ipython",
    "version": 3
   },
   "file_extension": ".py",
   "mimetype": "text/x-python",
   "name": "python",
   "nbconvert_exporter": "python",
   "pygments_lexer": "ipython3",
   "version": "3.8.3-final"
  },
  "orig_nbformat": 2,
  "kernelspec": {
   "name": "python3",
   "display_name": "Python 3",
   "language": "python"
  }
 },
 "nbformat": 4,
 "nbformat_minor": 2,
 "cells": [
  {
   "cell_type": "code",
   "execution_count": 2,
   "metadata": {},
   "outputs": [
    {
     "output_type": "stream",
     "name": "stdout",
     "text": [
      "16 * 1 = 16\n16 * 2 = 32\n16 * 3 = 48\n16 * 4 = 64\n16 * 5 = 80\n16 * 6 = 96\n16 * 7 = 112\n16 * 8 = 128\n16 * 9 = 144\n16 * 10 = 160\n"
     ]
    }
   ],
   "source": [
    "#Multiple of number\n",
    "def multiple(mul_no):\n",
    "    for i in range(1,11):\n",
    "        tble_print=i*mul_no\n",
    "        print(mul_no,\"*\",i,\"=\",tble_print)\n",
    "mul_no=int(input(\"Which table do you want?\"))\n",
    "multiple(mul_no)"
   ]
  },
  {
   "cell_type": "code",
   "execution_count": null,
   "metadata": {},
   "outputs": [],
   "source": []
  }
 ]
}