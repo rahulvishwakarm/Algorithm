{
 "metadata": {
  "language_info": {
   "codemirror_mode": {
    "name": "ipython",
    "version": 3
   },
   "file_extension": ".py",
   "mimetype": "text/x-python",
   "name": "python",
   "nbconvert_exporter": "python",
   "pygments_lexer": "ipython3",
   "version": "3.8.3-final"
  },
  "orig_nbformat": 2,
  "kernelspec": {
   "name": "python3",
   "display_name": "Python 3",
   "language": "python"
  }
 },
 "nbformat": 4,
 "nbformat_minor": 2,
 "cells": [
  {
   "cell_type": "code",
   "execution_count": 2,
   "metadata": {},
   "outputs": [
    {
     "output_type": "stream",
     "name": "stdout",
     "text": [
      "There are  6 number multiple of 3 in  [12, 63, 24, 16, 2, 3, 121, 16, 28, 96, 41, 321, 62, 4, 16]\n"
     ]
    }
   ],
   "source": [
    "def multipleOd3(arrMultipleOf3):\n",
    "    counter=0\n",
    "    for i in arrMultipleOf3:\n",
    "        if(i%3==0):\n",
    "            counter+=1\n",
    "    print(\"There are \",counter,\"number multiple of 3 in \",arrMultipleOf3)\n",
    "arrMultipleOf3=[12,63,24,16,2,3,121,16,28,96,41,321,62,4,16]\n",
    "multipleOd3(arrMultipleOf3)"
   ]
  },
  {
   "cell_type": "code",
   "execution_count": null,
   "metadata": {},
   "outputs": [],
   "source": []
  }
 ]
}