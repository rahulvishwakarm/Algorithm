{
 "metadata": {
  "language_info": {
   "codemirror_mode": {
    "name": "ipython",
    "version": 3
   },
   "file_extension": ".py",
   "mimetype": "text/x-python",
   "name": "python",
   "nbconvert_exporter": "python",
   "pygments_lexer": "ipython3",
   "version": "3.8.3-final"
  },
  "orig_nbformat": 2,
  "kernelspec": {
   "name": "python3",
   "display_name": "Python 3.8.3 64-bit (conda)",
   "metadata": {
    "interpreter": {
     "hash": "1436008ecd0ef284bf0ea18effecf224f38f7244a28ba0af9b6a2b8d2eedb790"
    }
   }
  }
 },
 "nbformat": 4,
 "nbformat_minor": 2,
 "cells": [
  {
   "cell_type": "code",
   "execution_count": 7,
   "metadata": {},
   "outputs": [
    {
     "output_type": "stream",
     "name": "stdout",
     "text": [
      "num: 652\nReverse of num: 256\n"
     ]
    }
   ],
   "source": [
    "#Reverse Number\n",
    "num=int(input(\"Enter the number:\"))\n",
    "print(\"num:\",num)\n",
    "rev=0\n",
    "while(num>0):\n",
    "    rem=num%10\n",
    "    rev=(rev*10)+rem\n",
    "    num=num//10\n",
    "print(\"Reverse of num:\",rev)"
   ]
  },
  {
   "cell_type": "code",
   "execution_count": 12,
   "metadata": {},
   "outputs": [
    {
     "output_type": "stream",
     "name": "stdout",
     "text": [
      "954  is not a palindrome\n"
     ]
    }
   ],
   "source": [
    "#Palindrome - if num and reverse of num are equal the number is palindrome\n",
    "num=int(input(\"Enter the number:\"))\n",
    "temp=num\n",
    "reverse=0\n",
    "while(num>0):\n",
    "    rem=num%10\n",
    "    reverse=(reverse*10)+rem\n",
    "    num=num//10\n",
    "if(temp==reverse):\n",
    "    print(temp,\" is a palindrome\")\n",
    "else:\n",
    "    print(temp,\" is not a palindrome\")"
   ]
  },
  {
   "cell_type": "code",
   "execution_count": null,
   "metadata": {},
   "outputs": [],
   "source": []
  }
 ]
}