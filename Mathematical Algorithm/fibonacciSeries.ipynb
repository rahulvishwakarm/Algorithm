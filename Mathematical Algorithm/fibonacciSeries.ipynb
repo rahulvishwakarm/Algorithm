{
 "metadata": {
  "language_info": {
   "codemirror_mode": {
    "name": "ipython",
    "version": 3
   },
   "file_extension": ".py",
   "mimetype": "text/x-python",
   "name": "python",
   "nbconvert_exporter": "python",
   "pygments_lexer": "ipython3",
   "version": "3.8.3-final"
  },
  "orig_nbformat": 2,
  "kernelspec": {
   "name": "python3",
   "display_name": "Python 3",
   "language": "python"
  }
 },
 "nbformat": 4,
 "nbformat_minor": 2,
 "cells": [
  {
   "cell_type": "code",
   "execution_count": 20,
   "metadata": {},
   "outputs": [],
   "source": [
    "#Fibonacci Series\n",
    "#0,1,1,2,3,5,8,13...\n"
   ]
  },
  {
   "cell_type": "code",
   "execution_count": 21,
   "metadata": {},
   "outputs": [
    {
     "output_type": "stream",
     "name": "stdout",
     "text": [
      "Fibonacci Series\n0\n1\n1\n2\n3\n5\n8\n13\n21\n34\n55\n89\n"
     ]
    }
   ],
   "source": [
    "def fibonacciSeries(nterms):\n",
    "    if(nterms==0):\n",
    "        print(\"Not posible\")\n",
    "    elif(nterms==1):\n",
    "        print(\"0\")\n",
    "        print(\"1\")\n",
    "    else:\n",
    "        n1=0\n",
    "        n2=1\n",
    "        count=0\n",
    "        while(count<nterms):\n",
    "            print(n1)\n",
    "            n3=n1+n2\n",
    "            n1=n2\n",
    "            n2=n3\n",
    "            count=count+1\n",
    "print(\"Fibonacci Series\")\n",
    "fibonacciSeries(12)"
   ]
  },
  {
   "cell_type": "code",
   "execution_count": null,
   "metadata": {},
   "outputs": [],
   "source": []
  }
 ]
}