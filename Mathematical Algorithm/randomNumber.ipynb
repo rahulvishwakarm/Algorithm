{
 "metadata": {
  "language_info": {
   "codemirror_mode": {
    "name": "ipython",
    "version": 3
   },
   "file_extension": ".py",
   "mimetype": "text/x-python",
   "name": "python",
   "nbconvert_exporter": "python",
   "pygments_lexer": "ipython3",
   "version": "3.8.3-final"
  },
  "orig_nbformat": 2,
  "kernelspec": {
   "name": "python3",
   "display_name": "Python 3.8.3 64-bit (conda)",
   "metadata": {
    "interpreter": {
     "hash": "1436008ecd0ef284bf0ea18effecf224f38f7244a28ba0af9b6a2b8d2eedb790"
    }
   }
  }
 },
 "nbformat": 4,
 "nbformat_minor": 2,
 "cells": [
  {
   "cell_type": "code",
   "execution_count": 1,
   "metadata": {},
   "outputs": [
    {
     "output_type": "stream",
     "name": "stdout",
     "text": [
      "0.4451354106897457\n"
     ]
    }
   ],
   "source": [
    "#Single random number\n",
    "import random\n",
    "n=random.random()\n",
    "print(n)"
   ]
  },
  {
   "cell_type": "code",
   "execution_count": 2,
   "metadata": {},
   "outputs": [
    {
     "output_type": "stream",
     "name": "stdout",
     "text": [
      "23\n"
     ]
    }
   ],
   "source": [
    "#Generating random number in range\n",
    "import random\n",
    "ranNumInRange = random.randint(0,23)\n",
    "print(ranNumInRange)"
   ]
  },
  {
   "cell_type": "code",
   "execution_count": 4,
   "metadata": {},
   "outputs": [
    {
     "output_type": "stream",
     "name": "stdout",
     "text": [
      "Before: []\nAfter: [0.9928675381277254, 0.9682041953344025, 0.06084059333435288, 0.7271958647135316, 0.0077066911457357445, 0.20926003398043447, 0.8616234316018289, 0.7927477517079379, 0.15067964845642512, 0.2861973958519577, 0.932201216605295, 0.08559158649928666, 0.21659080446753354, 0.6773713738941974, 0.5395560903176999, 0.5990011532376385, 0.2741905554069889, 0.2422161740849098, 0.2093064718354909, 0.7522538987895592]\n"
     ]
    }
   ],
   "source": [
    "#Generating number and append into list using loop\n",
    "import random\n",
    "randList = []\n",
    "print(\"Before:\",randList)\n",
    "for i in range(20):\n",
    "    n=random.random()\n",
    "    randList.append(n)\n",
    "print(\"After:\",randList)"
   ]
  },
  {
   "cell_type": "code",
   "execution_count": 6,
   "metadata": {},
   "outputs": [
    {
     "output_type": "stream",
     "name": "stdout",
     "text": [
      "[98, 10, 9, 25, 19]\n"
     ]
    }
   ],
   "source": [
    "#We can use the sample menthod to generate the number here we would have to specify the range and how many number we want to generate\n",
    "import random\n",
    "randList = random.sample(range(1,99),5)\n",
    "print(randList)"
   ]
  },
  {
   "cell_type": "code",
   "execution_count": 8,
   "metadata": {},
   "outputs": [
    {
     "output_type": "stream",
     "name": "stdout",
     "text": [
      "['TCS', 'Facebook', 'Google']\n"
     ]
    }
   ],
   "source": [
    "#Randomly selecting 3 values from the list\n",
    "company = [\"Google\",\"Facebook\",\"TCS\",\"Wipro\",\"Tech mahindra\",\"Oracle\"]\n",
    "randomCompany = random.sample(company,3)\n",
    "print(randomCompany)"
   ]
  },
  {
   "cell_type": "code",
   "execution_count": null,
   "metadata": {},
   "outputs": [],
   "source": []
  }
 ]
}