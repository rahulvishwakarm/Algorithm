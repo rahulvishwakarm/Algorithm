{
 "metadata": {
  "language_info": {
   "codemirror_mode": {
    "name": "ipython",
    "version": 3
   },
   "file_extension": ".py",
   "mimetype": "text/x-python",
   "name": "python",
   "nbconvert_exporter": "python",
   "pygments_lexer": "ipython3",
   "version": "3.8.3-final"
  },
  "orig_nbformat": 2,
  "kernelspec": {
   "name": "python3",
   "display_name": "Python 3.8.3 64-bit (conda)",
   "metadata": {
    "interpreter": {
     "hash": "1436008ecd0ef284bf0ea18effecf224f38f7244a28ba0af9b6a2b8d2eedb790"
    }
   }
  }
 },
 "nbformat": 4,
 "nbformat_minor": 2,
 "cells": [
  {
   "cell_type": "code",
   "execution_count": 1,
   "metadata": {},
   "outputs": [],
   "source": [
    "# Number will be armstong number if: 121=1*(number of digits)+2*(number of digits)+1*(number of digits)==121"
   ]
  },
  {
   "cell_type": "code",
   "execution_count": 13,
   "metadata": {},
   "outputs": [
    {
     "output_type": "stream",
     "name": "stdout",
     "text": [
      "407  Armstrong number\n"
     ]
    }
   ],
   "source": [
    "#Armstrong Number\n",
    "n=int(input(\"Enter the number:\"))\n",
    "su=0\n",
    "temp=n\n",
    "while(temp>0):\n",
    "    digit=temp%10\n",
    "    su=su+digit**3\n",
    "    temp=temp//10\n",
    "if(n==su):\n",
    "    print(n,\" Armstrong number\")\n",
    "else:\n",
    "    print(n,\" Not a Armstrong Number\")"
   ]
  },
  {
   "cell_type": "code",
   "execution_count": 15,
   "metadata": {},
   "outputs": [
    {
     "output_type": "stream",
     "name": "stdout",
     "text": [
      "8208  Armstrong number\n"
     ]
    }
   ],
   "source": [
    "n=int(input(\"Enter the number\"))\n",
    "temp=n\n",
    "su=0\n",
    "legOfNumber=len(str(n))\n",
    "while(temp>0):\n",
    "    digit=temp%10\n",
    "    su=su+digit**legOfNumber\n",
    "    temp=temp//10\n",
    "if(n==su):\n",
    "    print(n,\" Armstrong number\")\n",
    "else:\n",
    "    print(n,\" Not a Armstrong Number\")"
   ]
  },
  {
   "cell_type": "code",
   "execution_count": null,
   "metadata": {},
   "outputs": [],
   "source": []
  }
 ]
}