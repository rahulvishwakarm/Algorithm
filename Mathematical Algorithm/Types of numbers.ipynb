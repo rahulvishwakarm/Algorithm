{
 "metadata": {
  "language_info": {
   "codemirror_mode": {
    "name": "ipython",
    "version": 3
   },
   "file_extension": ".py",
   "mimetype": "text/x-python",
   "name": "python",
   "nbconvert_exporter": "python",
   "pygments_lexer": "ipython3",
   "version": "3.8.3-final"
  },
  "orig_nbformat": 2,
  "kernelspec": {
   "name": "python3",
   "display_name": "Python 3.8.3 64-bit (conda)",
   "metadata": {
    "interpreter": {
     "hash": "1436008ecd0ef284bf0ea18effecf224f38f7244a28ba0af9b6a2b8d2eedb790"
    }
   }
  }
 },
 "nbformat": 4,
 "nbformat_minor": 2,
 "cells": [
  {
   "cell_type": "code",
   "execution_count": 18,
   "metadata": {},
   "outputs": [
    {
     "output_type": "stream",
     "name": "stdout",
     "text": [
      "20  is the prime number\n"
     ]
    }
   ],
   "source": [
    "#Input number is prime number or not\n",
    "num=int(input(\"Enter the number:\"))\n",
    "if num>1:\n",
    "    for i in range(2,num):\n",
    "        if(num%i==0):\n",
    "             print(num,\" is the prime number\")\n",
    "             break\n",
    "        else:\n",
    "            print(num,\" is not a prime number\")\n",
    "            break"
   ]
  },
  {
   "cell_type": "code",
   "execution_count": 41,
   "metadata": {},
   "outputs": [
    {
     "output_type": "stream",
     "name": "stdout",
     "text": [
      "2\n3\n5\n7\n"
     ]
    }
   ],
   "source": [
    "#Print the prime number from the specific range\n",
    "def primeNumberRange(startNumber,endNumber):\n",
    "    for i in range(startNumber,endNumber+1):\n",
    "        if i>1:\n",
    "            for j in range(2,i):\n",
    "                if (i%j)==0:\n",
    "                    break\n",
    "            else:\n",
    "                print(i)\n",
    "primeNumberRange(2,9)"
   ]
  },
  {
   "cell_type": "code",
   "execution_count": 42,
   "metadata": {},
   "outputs": [
    {
     "output_type": "stream",
     "name": "stdout",
     "text": [
      "64  is even number\n"
     ]
    }
   ],
   "source": [
    "#Even and Odd number\n",
    "def evenOdd(num):\n",
    "    if(num%2==0):\n",
    "        print(num,\" is even number\")\n",
    "    else:\n",
    "        print(num,\" is odd number\")\n",
    "num=int(input(\"Enter the number:\"))\n",
    "evenOdd(num)"
   ]
  },
  {
   "cell_type": "code",
   "execution_count": null,
   "metadata": {},
   "outputs": [],
   "source": []
  }
 ]
}