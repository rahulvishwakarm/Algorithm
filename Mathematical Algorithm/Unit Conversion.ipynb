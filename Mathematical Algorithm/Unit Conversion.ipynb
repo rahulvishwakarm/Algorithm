{
 "metadata": {
  "language_info": {
   "codemirror_mode": {
    "name": "ipython",
    "version": 3
   },
   "file_extension": ".py",
   "mimetype": "text/x-python",
   "name": "python",
   "nbconvert_exporter": "python",
   "pygments_lexer": "ipython3",
   "version": "3.8.3-final"
  },
  "orig_nbformat": 2,
  "kernelspec": {
   "name": "python3",
   "display_name": "Python 3.8.3 64-bit (conda)",
   "metadata": {
    "interpreter": {
     "hash": "1436008ecd0ef284bf0ea18effecf224f38f7244a28ba0af9b6a2b8d2eedb790"
    }
   }
  }
 },
 "nbformat": 4,
 "nbformat_minor": 2,
 "cells": [
  {
   "cell_type": "code",
   "execution_count": 5,
   "metadata": {},
   "outputs": [
    {
     "output_type": "stream",
     "name": "stdout",
     "text": [
      "Disatnce in kilometer: 89.5\nDistance in miles: 55.6127045\n"
     ]
    }
   ],
   "source": [
    "#Kilometer to miles\n",
    "Kilometer=float(input(\"Enter distance in Kilometer:\"))\n",
    "print(\"Disatnce in kilometer:\",Kilometer)\n",
    "mile_factor=0.621371\n",
    "miles=Kilometer*mile_factor\n",
    "print(\"Distance in miles:\",miles)"
   ]
  },
  {
   "cell_type": "code",
   "execution_count": 8,
   "metadata": {},
   "outputs": [
    {
     "output_type": "stream",
     "name": "stdout",
     "text": [
      "Disatnce in kilometer: 1.0\nDistence in meter: 1000.0\n"
     ]
    }
   ],
   "source": [
    "#Kilometer to meter\n",
    "Kilometer=float(input(\"Enter distance in Kilometer:\"))\n",
    "print(\"Disatnce in kilometer:\",Kilometer)\n",
    "meter_factor=1000*Kilometer\n",
    "print(\"Distence in meter:\",meter_factor)"
   ]
  },
  {
   "cell_type": "code",
   "execution_count": 11,
   "metadata": {},
   "outputs": [
    {
     "output_type": "stream",
     "name": "stdout",
     "text": [
      "Temperature in Celcius: 35.5\nTemperature in farenheit: 95.9\n"
     ]
    }
   ],
   "source": [
    "#Celcius to farenheit\n",
    "celcius=float(input(\"Enter temperature in celcius:\"))\n",
    "print(\"Temperature in Celcius:\",celcius)\n",
    "#Formula   farenheit=celcius*1.8-32\n",
    "farenheit=celcius*1.8+32\n",
    "print(\"Temperature in farenheit:\",farenheit)"
   ]
  },
  {
   "cell_type": "code",
   "execution_count": 12,
   "metadata": {},
   "outputs": [
    {
     "output_type": "stream",
     "name": "stdout",
     "text": [
      "Temperature in farenheit: 95.5\nTemperature in celcius: 35.27777777777778\n"
     ]
    }
   ],
   "source": [
    "#farenheit to celcius\n",
    "farenheit=float(input(\"Enter temperature in farenheit:\"))\n",
    "print(\"Temperature in farenheit:\",farenheit)\n",
    "#Formula  celcius=(farenheit-32)/1.8\n",
    "celcius=(farenheit-32)/1.8\n",
    "print(\"Temperature in celcius:\",celcius)"
   ]
  },
  {
   "cell_type": "code",
   "execution_count": null,
   "metadata": {},
   "outputs": [],
   "source": []
  }
 ]
}