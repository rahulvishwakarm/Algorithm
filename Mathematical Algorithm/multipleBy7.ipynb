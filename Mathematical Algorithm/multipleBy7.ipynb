{
 "metadata": {
  "language_info": {
   "codemirror_mode": {
    "name": "ipython",
    "version": 3
   },
   "file_extension": ".py",
   "mimetype": "text/x-python",
   "name": "python",
   "nbconvert_exporter": "python",
   "pygments_lexer": "ipython3",
   "version": "3.8.3-final"
  },
  "orig_nbformat": 2,
  "kernelspec": {
   "name": "python3",
   "display_name": "Python 3",
   "language": "python"
  }
 },
 "nbformat": 4,
 "nbformat_minor": 2,
 "cells": [
  {
   "cell_type": "code",
   "execution_count": 1,
   "metadata": {},
   "outputs": [],
   "source": [
    "#multiple by 7 =>print(\"Multple of 7\") else =>print(\"Not a multple of 7\")"
   ]
  },
  {
   "cell_type": "code",
   "execution_count": 3,
   "metadata": {},
   "outputs": [
    {
     "output_type": "stream",
     "name": "stdout",
     "text": [
      "16 is not divisible by 7\n"
     ]
    }
   ],
   "source": [
    "\n",
    "def multpliOf7(no_to_check):\n",
    "    if(no_to_check%7==0):\n",
    "        print(no_to_check,\"is divible by 7\")\n",
    "    else:\n",
    "        print(no_to_check,\"is not divisible by 7\")\n",
    "no_to_check=int(input(\"Enter the number:\"))\n",
    "multpliOf7(no_to_check)"
   ]
  },
  {
   "cell_type": "code",
   "execution_count": null,
   "metadata": {},
   "outputs": [],
   "source": []
  }
 ]
}