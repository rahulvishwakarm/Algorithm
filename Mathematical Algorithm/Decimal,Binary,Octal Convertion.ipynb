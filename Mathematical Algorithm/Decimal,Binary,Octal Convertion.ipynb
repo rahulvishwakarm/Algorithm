{
 "metadata": {
  "language_info": {
   "codemirror_mode": {
    "name": "ipython",
    "version": 3
   },
   "file_extension": ".py",
   "mimetype": "text/x-python",
   "name": "python",
   "nbconvert_exporter": "python",
   "pygments_lexer": "ipython3",
   "version": "3.8.3-final"
  },
  "orig_nbformat": 2,
  "kernelspec": {
   "name": "python3",
   "display_name": "Python 3.8.3 64-bit (conda)",
   "metadata": {
    "interpreter": {
     "hash": "1436008ecd0ef284bf0ea18effecf224f38f7244a28ba0af9b6a2b8d2eedb790"
    }
   }
  }
 },
 "nbformat": 4,
 "nbformat_minor": 2,
 "cells": [
  {
   "cell_type": "code",
   "execution_count": 2,
   "metadata": {},
   "outputs": [
    {
     "output_type": "stream",
     "name": "stdout",
     "text": [
      "Decimal: 543\nBinary: 0b1000011111\nOctal: 0o1037\nHexa decimal: 0x21f\n"
     ]
    }
   ],
   "source": [
    "Decimal_number=int(input(\"Enter number in decimal:\"))\n",
    "binary_number=bin(Decimal_number)\n",
    "Octal_number=oct(Decimal_number)\n",
    "Hexa_decimal=hex(Decimal_number)\n",
    "print(\"Decimal:\",Decimal_number)\n",
    "print(\"Binary:\",binary_number)\n",
    "print(\"Octal:\",Octal_number)\n",
    "print(\"Hexa decimal:\",Hexa_decimal)\n"
   ]
  },
  {
   "cell_type": "code",
   "execution_count": null,
   "metadata": {},
   "outputs": [],
   "source": []
  }
 ]
}