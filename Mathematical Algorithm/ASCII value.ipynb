{
 "metadata": {
  "language_info": {
   "codemirror_mode": {
    "name": "ipython",
    "version": 3
   },
   "file_extension": ".py",
   "mimetype": "text/x-python",
   "name": "python",
   "nbconvert_exporter": "python",
   "pygments_lexer": "ipython3",
   "version": "3.8.3-final"
  },
  "orig_nbformat": 2,
  "kernelspec": {
   "name": "python3",
   "display_name": "Python 3.8.3 64-bit (conda)",
   "metadata": {
    "interpreter": {
     "hash": "1436008ecd0ef284bf0ea18effecf224f38f7244a28ba0af9b6a2b8d2eedb790"
    }
   }
  }
 },
 "nbformat": 4,
 "nbformat_minor": 2,
 "cells": [
  {
   "cell_type": "code",
   "execution_count": 4,
   "metadata": {},
   "outputs": [
    {
     "output_type": "stream",
     "name": "stdout",
     "text": [
      "ASCII Value of  g  is  103\n"
     ]
    }
   ],
   "source": [
    "#ASCII value of character\n",
    "# ord() convert string to integer\n",
    "sci=input(\"Enter the character:\")\n",
    "asci_val=ord(sci)\n",
    "print(\"ASCII Value of \",sci,\" is \",asci_val)"
   ]
  },
  {
   "cell_type": "code",
   "execution_count": 11,
   "metadata": {},
   "outputs": [
    {
     "output_type": "stream",
     "name": "stdout",
     "text": [
      "ASCII Value of  34  is  \"\n"
     ]
    }
   ],
   "source": [
    "#chr() convert integer to string\n",
    "sci=int(input(\"Enter the number:\"))\n",
    "asci_val=chr(sci)\n",
    "print(\"ASCII Value of \",sci,\" is \",asci_val)"
   ]
  },
  {
   "cell_type": "code",
   "execution_count": null,
   "metadata": {},
   "outputs": [],
   "source": []
  }
 ]
}